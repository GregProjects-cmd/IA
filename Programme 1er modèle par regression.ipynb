import pandas as pd
from sklearn.model_selection import train_test_split
from sklearn.preprocessing import OneHotEncoder, StandardScaler
from sklearn.compose import ColumnTransformer
from sklearn.pipeline import Pipeline
from sklearn.linear_model import LinearRegression
from sklearn.metrics import mean_absolute_error, mean_squared_error, r2_score
import numpy as np

# 1. Charger les données
data = pd.read_csv("airlines_flights_data.csv")

# 2. X et y
X = data.drop("price", axis=1)
y = data["price"]

# 3. Découper en train/test
X_train, X_test, y_train, y_test = train_test_split(X, y, test_size=0.2, random_state=42)

# 4. Colonnes
cat_cols = ["airline", "departure_time"]
num_cols = ["days_left"]

# 5. Prétraitement
preprocessor = ColumnTransformer(
    transformers=[("categorical", OneHotEncoder(handle_unknown="ignore"), cat_cols),
    ("numerical", StandardScaler(), num_cols)
    ]
)

# 6. Pipeline avec un modèle
model = Pipeline(steps=[("preprocessor", preprocessor),("regressor", LinearRegression())])

# 7. Entraînement
model.fit(X_train, y_train)

# 8. Prédictions
y_pred = model.predict(X_test)

# 9. Évaluation
mae = mean_absolute_error(y_test, y_pred)
rmse = np.sqrt(mean_squared_error(y_test, y_pred))
r2 = r2_score(y_test, y_pred)

#print("MAE:", mae)
#print("RMSE:", rmse)
print("R²:", r2)
